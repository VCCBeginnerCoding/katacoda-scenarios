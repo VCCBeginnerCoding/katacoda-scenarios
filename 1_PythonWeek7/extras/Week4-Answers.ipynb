{
 "cells": [
  {
   "cell_type": "markdown",
   "metadata": {},
   "source": [
    "# Vodafone Coding Club Crash Course Week 4\n",
    "## Pandas Project\n",
    "\n",
    "This workbook will take you through the ins and outs of working with spreadsheet data in Python. "
   ]
  },
  {
   "cell_type": "code",
   "execution_count": null,
   "metadata": {},
   "outputs": [],
   "source": [
    "#Start the session by saying for them to all go to the link and click the ipynb file and have\n",
    "#it load while we wait for people"
   ]
  },
  {
   "cell_type": "markdown",
   "metadata": {},
   "source": [
    "## Downloading Pandas\n",
    "Pandas is a Python library that allows us to work with spreadsheet data in Python. To install the Pandas library, we can run the command in the following cell. "
   ]
  },
  {
   "cell_type": "code",
   "execution_count": null,
   "metadata": {},
   "outputs": [],
   "source": [
    "!python3 -m pip install pandas"
   ]
  },
  {
   "cell_type": "markdown",
   "metadata": {},
   "source": [
    "## Importing Pandas\n",
    "Now that we've downloaded Pandas, we now have to import the Pandas library into our code, we can do this in Python using the following code "
   ]
  },
  {
   "cell_type": "code",
   "execution_count": 3,
   "metadata": {},
   "outputs": [],
   "source": [
    "import pandas "
   ]
  },
  {
   "cell_type": "markdown",
   "metadata": {},
   "source": [
    "# Let's get our hands on some data\n",
    "There are two files in the project folder; **example_csv.csv** and **example_xslx.xlsx**. \n",
    "\n",
    "You will most likely have worked with .xslx format which is the default Excel Spreadsheet format. \n",
    "\n",
    "You may not have worked with .csv files but they are essentially the same thing. The only difference between them is that .csv stands for \"comma separated values\", this means that rather than having cells separate the data, we use commas or another character (e.g. !~@ etc) to separate the data. \n",
    "\n",
    "| Syntax      | Description |\n",
    "| ----------- | ----------- |\n",
    "| Header      | Title       |\n",
    "| Paragraph   | Text        |\n",
    "\n",
    "Syntax, Description <br>\n",
    "Header, Title <br>\n",
    "Paragraph, Text <br>"
   ]
  },
  {
   "cell_type": "markdown",
   "metadata": {},
   "source": [
    "## Loading data into Pandas\n",
    "Now that we've imported Pandas into Python, let's try import some data using Pandas. Pandas supports both .xlsx format and .csv format, to load either file into Pandas, we can do the following:"
   ]
  },
  {
   "cell_type": "code",
   "execution_count": null,
   "metadata": {},
   "outputs": [],
   "source": [
    "# Loading example csv and xslx data into pandas\n",
    "\n",
    "## Loading csv file 'example_csv.csv' into pandas and storing that data in the variable 'example_csv'\n",
    "example_csv_df = pandas.read_csv('example_csv.csv')\n",
    "\n",
    "## Loading xlsx file 'example_xlsx.xlsx' into pandas and storing that data in the variable 'example_xlsx'\n",
    "##example_xlsx_df = pandas.read_excel('example_xlsx.xlsx')\n",
    "##The above line does not work in Katacoda for some reason, but does on normal machines"
   ]
  },
  {
   "cell_type": "markdown",
   "metadata": {},
   "source": [
    "## Your Turn!\n",
    "Using the above example, import \"data.csv\" into pandas into a variable called \"data_df\""
   ]
  },
  {
   "cell_type": "code",
   "execution_count": null,
   "metadata": {},
   "outputs": [],
   "source": [
    "# Your turn: create a variable data_df and load in 'data.csv'\n",
    "data_df = pandas.read_csv('data.csv')"
   ]
  },
  {
   "cell_type": "markdown",
   "metadata": {},
   "source": [
    "## Pandas functions\n",
    "Now that we've loaded data into Pandas, we can explore some of the functions included in pandas to explore our data. Try the following methods on the \"data_df\" variable e.g. data_df.head():\n",
    "\n",
    "1. head\n",
    "2. tail\n",
    "2. describe\n",
    "3. value_counts\n",
    "\n",
    "What do each of the functions do? How would one use these functions? "
   ]
  },
  {
   "cell_type": "code",
   "execution_count": null,
   "metadata": {},
   "outputs": [],
   "source": [
    "# Example:\n",
    "example_csv_df.head()"
   ]
  },
  {
   "cell_type": "code",
   "execution_count": null,
   "metadata": {},
   "outputs": [],
   "source": [
    "# Your turn: try the head() function on data_df, what does it do?\n",
    "data_df.head()\n",
    "\n",
    "#What does this do?\n",
    "##It retrieves the first n number of rows. \n",
    "# \n",
    "# Why do you think this might be useful? \n",
    "# So you can quickly check what types of data is in your dataset"
   ]
  },
  {
   "cell_type": "code",
   "execution_count": null,
   "metadata": {},
   "outputs": [],
   "source": [
    "# Your turn: try the tail() function on data_df, what does it do?\n",
    "data_df.tail()\n",
    "\n",
    "#What does this do?\n",
    "#It retrieves the last n number of rows. \n",
    "# \n",
    "# Why do you think this might be useful? \n",
    "# So you can quickly check what types of data is in your dataset, similarly to the head. \n",
    "# Also useful for checking after appending data to a dataset"
   ]
  },
  {
   "cell_type": "code",
   "execution_count": null,
   "metadata": {},
   "outputs": [],
   "source": [
    "# Your turn: try the describe() function on data_df, what does it do?\n",
    "data_df.describe()\n",
    "\n",
    "#What does this do?\n",
    "# Useful for calculating some statistical data like percentile, mean and standard deviation (std)\n",
    "# of the numerical values of the data set."
   ]
  },
  {
   "cell_type": "code",
   "execution_count": null,
   "metadata": {},
   "outputs": [],
   "source": [
    "# Your turn: try the value_counts() function on data_df, what does it do?\n",
    "data_df.value_counts()\n",
    "\n",
    "#What does this do?\n",
    "# Finds and returns a list of all the unique values in the dataset, the first element being\n",
    "# the most frequently-occuring element"
   ]
  },
  {
   "cell_type": "markdown",
   "metadata": {},
   "source": [
    "## Visualizing Pandas Data\n",
    "We can also visualize data in Pandas as graphs instead of tabular data. Pandas by default supports many formats, some include: line, bar, histogram, box and pie. Try test them out in code section below. "
   ]
  },
  {
   "cell_type": "code",
   "execution_count": null,
   "metadata": {},
   "outputs": [],
   "source": [
    "# An example line graph\n",
    "example_csv_df.plot(kind='line', title='Example Line Graph')"
   ]
  },
  {
   "cell_type": "code",
   "execution_count": null,
   "metadata": {},
   "outputs": [],
   "source": [
    "# Your turn: Try create a line graph of data_df\n",
    "data_df.plot(kind='line', title='Line chart for data set')"
   ]
  },
  {
   "cell_type": "code",
   "execution_count": null,
   "metadata": {},
   "outputs": [],
   "source": [
    "# An example box plot \n",
    "example_csv_df.plot(kind='box')"
   ]
  },
  {
   "cell_type": "code",
   "execution_count": null,
   "metadata": {},
   "outputs": [],
   "source": [
    "# Your turn: Try create a box plot graph of data_df\n",
    "data_df.plot(kind='box', title='Box chart for data set')"
   ]
  },
  {
   "cell_type": "markdown",
   "metadata": {},
   "source": [
    "## Question: What is the most suitable type of graph for the example data? \n",
    "\n",
    "What plot would you use if you wanted to show this data to someone? Explain why. "
   ]
  },
  {
   "cell_type": "code",
   "execution_count": null,
   "metadata": {},
   "outputs": [],
   "source": [
    "##Best graph for showing financial data in this case would likely be bar charts which show\n",
    "#the capex data compared to the opex data for each week\n",
    "\n",
    "#This is because it would show the different weeks compared to each other as well as the \n",
    "#capex and opex in each week compared together and across weeks. It will show the \n",
    "#gradually changes through the year \n",
    "\n",
    "data_df.plot(kind='bar', title='Bar chart for data set')"
   ]
  },
  {
   "cell_type": "markdown",
   "metadata": {},
   "source": [
    "## Data Analysis\n",
    "At Vodafone, we use Python to do data analysis on our data. We can use traditional Python on our Pandas data in order to manipulate and analyze the data. In the section below we will walk through how that is done. "
   ]
  },
  {
   "cell_type": "code",
   "execution_count": null,
   "metadata": {},
   "outputs": [],
   "source": [
    "# Example: Selecting a row to view the data\n",
    "example_csv_df['NPS Score']"
   ]
  },
  {
   "cell_type": "code",
   "execution_count": null,
   "metadata": {},
   "outputs": [],
   "source": [
    "# Your turn: Try selecting the CAPEX column to view in data_df \n",
    "data_df['CAPEX']"
   ]
  },
  {
   "cell_type": "code",
   "execution_count": null,
   "metadata": {},
   "outputs": [],
   "source": [
    "# Example: Adding a new column\n",
    "example_csv_df['NPS Score Copy'] = example_csv_df['NPS Score']"
   ]
  },
  {
   "cell_type": "code",
   "execution_count": null,
   "metadata": {},
   "outputs": [],
   "source": [
    "# Your turn: Try copying the OPEX column in data_df to a new column called \"OPEX Copy\"\n",
    "data_df['OPEX Copy'] = data_df['OPEX']\n",
    "data_df['OPEX Copy']"
   ]
  },
  {
   "cell_type": "code",
   "execution_count": null,
   "metadata": {},
   "outputs": [],
   "source": [
    "# Example: Column mean\n",
    "column_mean = example_csv_df['NPS Score'].mean(axis=0) # axis=0 tells Pandas to do a column wise mean\n",
    "print(column_mean)\n",
    "\n",
    "# axis=1 tells Pandas to do a row wise mean"
   ]
  },
  {
   "cell_type": "code",
   "execution_count": null,
   "metadata": {},
   "outputs": [],
   "source": [
    "# Your turn: Try obtain the CAPEX column mean in data_df\n",
    "column_mean = data_df['CAPEX'].mean(axis=0)\n",
    "print(column_mean)\n"
   ]
  },
  {
   "cell_type": "code",
   "execution_count": null,
   "metadata": {},
   "outputs": [],
   "source": [
    "# Example: Total or Sum of each row \n",
    "example_csv_df['Sum of Customer Score'] = example_csv_df.sum(axis=1) \n",
    "example_csv_df['Sum of Customer Score']"
   ]
  },
  {
   "cell_type": "code",
   "execution_count": null,
   "metadata": {},
   "outputs": [],
   "source": [
    "# Your turn: Try creating a new column in data_df to store the sum of each column per row\n",
    "data_df['Sum'] = data_df.sum(axis=1)\n",
    "data_df['Sum']"
   ]
  },
  {
   "cell_type": "code",
   "execution_count": null,
   "metadata": {},
   "outputs": [],
   "source": [
    "# Example: Custom function \n",
    "\n",
    "# This example custom function will square whatever value it gets\n",
    "def custom_function(x):\n",
    "    return x**2 \n",
    "\n",
    "# Create a new column 'Custom Function' which contains the squared value for each customer's NPS score\n",
    "example_csv_df['Custom Function'] = example_csv_df['NPS Score'].apply(custom_function)"
   ]
  },
  {
   "cell_type": "code",
   "execution_count": null,
   "metadata": {},
   "outputs": [],
   "source": [
    "# Your turn: Create a new custom function called \"multiply_by_3\" and then use that function to create a new column in data_df called \"3x OPEX\" and apply your custom function on the OPEX column \n",
    "def multiply_by_3(x):\n",
    "    return x**3\n",
    "\n",
    "data_df['3x OPEX'] = data_df['OPEX'].apply(multiply_by_3)\n",
    "print(data_df['3x OPEX'])"
   ]
  },
  {
   "cell_type": "code",
   "execution_count": null,
   "metadata": {},
   "outputs": [],
   "source": [
    "# Example: Finding rows that match a specific criteria\n",
    "filtered_view = example_csv_df.loc[example_csv_df['Customer Service'] > 9]\n",
    "filtered_view"
   ]
  },
  {
   "cell_type": "code",
   "execution_count": null,
   "metadata": {},
   "outputs": [],
   "source": [
    "# Your turn: Filter out all the OPEX weeks in data_df which were less than 3000\n",
    "high_OPEX_view = data_df.loc[data_df['OPEX'] > 3000]\n",
    "high_OPEX_view"
   ]
  },
  {
   "cell_type": "markdown",
   "metadata": {},
   "source": [
    "## Mini Project: \n",
    "Now that we know the basics of Python and Pandas, lets combine both skills and try our head at some real data and perform some data analysis. \n",
    "\n",
    "1. Import the file \"mini_project_data.csv\"\n",
    "2. Visualize specific columns\n",
    "    - Plot a Histogram plot of \"Income\" (with bins = 100)\n",
    "    - Plot a Pie chart plot of the \"Education\" (use value_counts() )\n",
    "3. Create a new column called \"Income in Euros\" and multiply the income by 0.86 \n",
    "4. Calculate the column average of the column \"MntWines\"\n",
    "5. Find the customer who has spent the most on wines and print out their ID aswell as how much they spent\n",
    "\n",
    "## Extension:\n",
    "If you manage to finish the above tasks, see if you can manage these more advanced Pandas concepts: \n",
    "\n",
    "1. What is the average amount of wine spent people who have kids compared to people without kids? Print out the difference\n",
    "2. Is there a salary difference between people who are graduated compared to people who have a Masters or PhD? What is the difference between each group?"
   ]
  },
  {
   "cell_type": "code",
   "execution_count": 17,
   "metadata": {},
   "outputs": [],
   "source": [
    "# Your turn: Read the in the data and give it a suitable name like \"mini_project_df\"\n",
    "mini_project_df = pandas.read_csv(\"G:\\\\Work\\\\katacoda-scenarios\\\\1_PythonWeek4\\\\mini_project_data.csv\")\n"
   ]
  },
  {
   "cell_type": "code",
   "execution_count": 16,
   "metadata": {},
   "outputs": [
    {
     "data": {
      "text/html": [
       "<div>\n",
       "<style scoped>\n",
       "    .dataframe tbody tr th:only-of-type {\n",
       "        vertical-align: middle;\n",
       "    }\n",
       "\n",
       "    .dataframe tbody tr th {\n",
       "        vertical-align: top;\n",
       "    }\n",
       "\n",
       "    .dataframe thead th {\n",
       "        text-align: right;\n",
       "    }\n",
       "</style>\n",
       "<table border=\"1\" class=\"dataframe\">\n",
       "  <thead>\n",
       "    <tr style=\"text-align: right;\">\n",
       "      <th></th>\n",
       "      <th>ID</th>\n",
       "      <th>Year_Birth</th>\n",
       "      <th>Education</th>\n",
       "      <th>Marital_Status</th>\n",
       "      <th>Income</th>\n",
       "      <th>Kidhome</th>\n",
       "      <th>Teenhome</th>\n",
       "      <th>Dt_Customer</th>\n",
       "      <th>Recency</th>\n",
       "      <th>MntWines</th>\n",
       "      <th>...</th>\n",
       "      <th>AcceptedCmp3</th>\n",
       "      <th>AcceptedCmp4</th>\n",
       "      <th>AcceptedCmp5</th>\n",
       "      <th>AcceptedCmp1</th>\n",
       "      <th>AcceptedCmp2</th>\n",
       "      <th>Complain</th>\n",
       "      <th>Z_CostContact</th>\n",
       "      <th>Z_Revenue</th>\n",
       "      <th>Response</th>\n",
       "      <th>Income in Euros</th>\n",
       "    </tr>\n",
       "  </thead>\n",
       "  <tbody>\n",
       "    <tr>\n",
       "      <th>0</th>\n",
       "      <td>5524</td>\n",
       "      <td>1957</td>\n",
       "      <td>Graduation</td>\n",
       "      <td>Single</td>\n",
       "      <td>58138.0</td>\n",
       "      <td>0</td>\n",
       "      <td>0</td>\n",
       "      <td>04-09-2012</td>\n",
       "      <td>58</td>\n",
       "      <td>635</td>\n",
       "      <td>...</td>\n",
       "      <td>0</td>\n",
       "      <td>0</td>\n",
       "      <td>0</td>\n",
       "      <td>0</td>\n",
       "      <td>0</td>\n",
       "      <td>0</td>\n",
       "      <td>3</td>\n",
       "      <td>11</td>\n",
       "      <td>1</td>\n",
       "      <td>49998.68</td>\n",
       "    </tr>\n",
       "    <tr>\n",
       "      <th>1</th>\n",
       "      <td>2174</td>\n",
       "      <td>1954</td>\n",
       "      <td>Graduation</td>\n",
       "      <td>Single</td>\n",
       "      <td>46344.0</td>\n",
       "      <td>1</td>\n",
       "      <td>1</td>\n",
       "      <td>08-03-2014</td>\n",
       "      <td>38</td>\n",
       "      <td>11</td>\n",
       "      <td>...</td>\n",
       "      <td>0</td>\n",
       "      <td>0</td>\n",
       "      <td>0</td>\n",
       "      <td>0</td>\n",
       "      <td>0</td>\n",
       "      <td>0</td>\n",
       "      <td>3</td>\n",
       "      <td>11</td>\n",
       "      <td>0</td>\n",
       "      <td>39855.84</td>\n",
       "    </tr>\n",
       "    <tr>\n",
       "      <th>2</th>\n",
       "      <td>4141</td>\n",
       "      <td>1965</td>\n",
       "      <td>Graduation</td>\n",
       "      <td>Together</td>\n",
       "      <td>71613.0</td>\n",
       "      <td>0</td>\n",
       "      <td>0</td>\n",
       "      <td>21-08-2013</td>\n",
       "      <td>26</td>\n",
       "      <td>426</td>\n",
       "      <td>...</td>\n",
       "      <td>0</td>\n",
       "      <td>0</td>\n",
       "      <td>0</td>\n",
       "      <td>0</td>\n",
       "      <td>0</td>\n",
       "      <td>0</td>\n",
       "      <td>3</td>\n",
       "      <td>11</td>\n",
       "      <td>0</td>\n",
       "      <td>61587.18</td>\n",
       "    </tr>\n",
       "    <tr>\n",
       "      <th>3</th>\n",
       "      <td>6182</td>\n",
       "      <td>1984</td>\n",
       "      <td>Graduation</td>\n",
       "      <td>Together</td>\n",
       "      <td>26646.0</td>\n",
       "      <td>1</td>\n",
       "      <td>0</td>\n",
       "      <td>10-02-2014</td>\n",
       "      <td>26</td>\n",
       "      <td>11</td>\n",
       "      <td>...</td>\n",
       "      <td>0</td>\n",
       "      <td>0</td>\n",
       "      <td>0</td>\n",
       "      <td>0</td>\n",
       "      <td>0</td>\n",
       "      <td>0</td>\n",
       "      <td>3</td>\n",
       "      <td>11</td>\n",
       "      <td>0</td>\n",
       "      <td>22915.56</td>\n",
       "    </tr>\n",
       "    <tr>\n",
       "      <th>4</th>\n",
       "      <td>5324</td>\n",
       "      <td>1981</td>\n",
       "      <td>PhD</td>\n",
       "      <td>Married</td>\n",
       "      <td>58293.0</td>\n",
       "      <td>1</td>\n",
       "      <td>0</td>\n",
       "      <td>19-01-2014</td>\n",
       "      <td>94</td>\n",
       "      <td>173</td>\n",
       "      <td>...</td>\n",
       "      <td>0</td>\n",
       "      <td>0</td>\n",
       "      <td>0</td>\n",
       "      <td>0</td>\n",
       "      <td>0</td>\n",
       "      <td>0</td>\n",
       "      <td>3</td>\n",
       "      <td>11</td>\n",
       "      <td>0</td>\n",
       "      <td>50131.98</td>\n",
       "    </tr>\n",
       "  </tbody>\n",
       "</table>\n",
       "<p>5 rows × 30 columns</p>\n",
       "</div>"
      ],
      "text/plain": [
       "     ID  Year_Birth   Education Marital_Status   Income  Kidhome  Teenhome  \\\n",
       "0  5524        1957  Graduation         Single  58138.0        0         0   \n",
       "1  2174        1954  Graduation         Single  46344.0        1         1   \n",
       "2  4141        1965  Graduation       Together  71613.0        0         0   \n",
       "3  6182        1984  Graduation       Together  26646.0        1         0   \n",
       "4  5324        1981         PhD        Married  58293.0        1         0   \n",
       "\n",
       "  Dt_Customer  Recency  MntWines  ...  AcceptedCmp3  AcceptedCmp4  \\\n",
       "0  04-09-2012       58       635  ...             0             0   \n",
       "1  08-03-2014       38        11  ...             0             0   \n",
       "2  21-08-2013       26       426  ...             0             0   \n",
       "3  10-02-2014       26        11  ...             0             0   \n",
       "4  19-01-2014       94       173  ...             0             0   \n",
       "\n",
       "   AcceptedCmp5  AcceptedCmp1  AcceptedCmp2  Complain  Z_CostContact  \\\n",
       "0             0             0             0         0              3   \n",
       "1             0             0             0         0              3   \n",
       "2             0             0             0         0              3   \n",
       "3             0             0             0         0              3   \n",
       "4             0             0             0         0              3   \n",
       "\n",
       "   Z_Revenue  Response  Income in Euros  \n",
       "0         11         1         49998.68  \n",
       "1         11         0         39855.84  \n",
       "2         11         0         61587.18  \n",
       "3         11         0         22915.56  \n",
       "4         11         0         50131.98  \n",
       "\n",
       "[5 rows x 30 columns]"
      ]
     },
     "execution_count": 16,
     "metadata": {},
     "output_type": "execute_result"
    }
   ],
   "source": [
    "# Your turn: Explore the data! What does our data contain, hint: use head() to see what our data is! \n",
    "mini_project_df.head()"
   ]
  },
  {
   "cell_type": "code",
   "execution_count": 8,
   "metadata": {},
   "outputs": [
    {
     "data": {
      "text/plain": [
       "<matplotlib.axes._subplots.AxesSubplot at 0x29f6846e788>"
      ]
     },
     "execution_count": 8,
     "metadata": {},
     "output_type": "execute_result"
    },
    {
     "data": {
      "image/png": "[encoded data removed]",
      "text/plain": [
       "<Figure size 432x288 with 1 Axes>"
      ]
     },
     "metadata": {
      "needs_background": "light"
     },
     "output_type": "display_data"
    }
   ],
   "source": [
    "# Your turn: Visualize the Income column as a histogram, hint: use the bins=100 parameter to really see the data!\n",
    "mini_project_df['Income'].plot(kind='hist', bins=100)"
   ]
  },
  {
   "cell_type": "code",
   "execution_count": 12,
   "metadata": {},
   "outputs": [
    {
     "data": {
      "text/plain": [
       "<matplotlib.axes._subplots.AxesSubplot at 0x29f6abb7088>"
      ]
     },
     "execution_count": 12,
     "metadata": {},
     "output_type": "execute_result"
    },
    {
     "data": {
      "image/png": "[encoded data removed]",
      "text/plain": [
       "<Figure size 432x288 with 1 Axes>"
      ]
     },
     "metadata": {},
     "output_type": "display_data"
    }
   ],
   "source": [
    "# Your turn: Visualize the Education column as a pie chart, hint: use value_counts to add up each type of education value!\n",
    "mini_project_df['Education'].value_counts().plot(kind='pie')"
   ]
  },
  {
   "cell_type": "code",
   "execution_count": 14,
   "metadata": {},
   "outputs": [
    {
     "name": "stdout",
     "output_type": "stream",
     "text": [
      "0       49998.68\n",
      "1       39855.84\n",
      "2       61587.18\n",
      "3       22915.56\n",
      "4       50131.98\n",
      "          ...   \n",
      "2235    52651.78\n",
      "2236    55052.04\n",
      "2237    49003.66\n",
      "2238    59550.70\n",
      "2239    45467.34\n",
      "Name: Income in Euros, Length: 2240, dtype: float64\n"
     ]
    }
   ],
   "source": [
    "# Your turn: Create a function that will multiply the Income column by 0.86 and add that data as a new column called \"Income in Euros\"\n",
    "def convert_to_euros(x):\n",
    "    return x*0.86\n",
    "\n",
    "mini_project_df['Income in Euros'] = mini_project_df['Income'].apply(convert_to_euros)\n",
    "print(mini_project_df['Income in Euros'])"
   ]
  },
  {
   "cell_type": "code",
   "execution_count": 15,
   "metadata": {},
   "outputs": [
    {
     "data": {
      "text/plain": [
       "303.9357142857143"
      ]
     },
     "execution_count": 15,
     "metadata": {},
     "output_type": "execute_result"
    }
   ],
   "source": [
    "# Your turn: Calculate the column average of the column \"MntWines\"\n",
    "mini_project_df['MntWines'].mean()"
   ]
  },
  {
   "cell_type": "code",
   "execution_count": 21,
   "metadata": {},
   "outputs": [
    {
     "data": {
      "text/html": [
       "<div>\n",
       "<style scoped>\n",
       "    .dataframe tbody tr th:only-of-type {\n",
       "        vertical-align: middle;\n",
       "    }\n",
       "\n",
       "    .dataframe tbody tr th {\n",
       "        vertical-align: top;\n",
       "    }\n",
       "\n",
       "    .dataframe thead th {\n",
       "        text-align: right;\n",
       "    }\n",
       "</style>\n",
       "<table border=\"1\" class=\"dataframe\">\n",
       "  <thead>\n",
       "    <tr style=\"text-align: right;\">\n",
       "      <th></th>\n",
       "      <th>ID</th>\n",
       "      <th>Year_Birth</th>\n",
       "      <th>Education</th>\n",
       "      <th>Marital_Status</th>\n",
       "      <th>Income</th>\n",
       "      <th>Kidhome</th>\n",
       "      <th>Teenhome</th>\n",
       "      <th>Dt_Customer</th>\n",
       "      <th>Recency</th>\n",
       "      <th>MntWines</th>\n",
       "      <th>...</th>\n",
       "      <th>NumWebVisitsMonth</th>\n",
       "      <th>AcceptedCmp3</th>\n",
       "      <th>AcceptedCmp4</th>\n",
       "      <th>AcceptedCmp5</th>\n",
       "      <th>AcceptedCmp1</th>\n",
       "      <th>AcceptedCmp2</th>\n",
       "      <th>Complain</th>\n",
       "      <th>Z_CostContact</th>\n",
       "      <th>Z_Revenue</th>\n",
       "      <th>Response</th>\n",
       "    </tr>\n",
       "  </thead>\n",
       "  <tbody>\n",
       "    <tr>\n",
       "      <th>1749</th>\n",
       "      <td>737</td>\n",
       "      <td>1949</td>\n",
       "      <td>PhD</td>\n",
       "      <td>Married</td>\n",
       "      <td>80360.0</td>\n",
       "      <td>0</td>\n",
       "      <td>0</td>\n",
       "      <td>03-03-2013</td>\n",
       "      <td>56</td>\n",
       "      <td>1493</td>\n",
       "      <td>...</td>\n",
       "      <td>2</td>\n",
       "      <td>0</td>\n",
       "      <td>1</td>\n",
       "      <td>1</td>\n",
       "      <td>1</td>\n",
       "      <td>0</td>\n",
       "      <td>0</td>\n",
       "      <td>3</td>\n",
       "      <td>11</td>\n",
       "      <td>0</td>\n",
       "    </tr>\n",
       "  </tbody>\n",
       "</table>\n",
       "<p>1 rows × 29 columns</p>\n",
       "</div>"
      ],
      "text/plain": [
       "       ID  Year_Birth Education Marital_Status   Income  Kidhome  Teenhome  \\\n",
       "1749  737        1949       PhD        Married  80360.0        0         0   \n",
       "\n",
       "     Dt_Customer  Recency  MntWines  ...  NumWebVisitsMonth  AcceptedCmp3  \\\n",
       "1749  03-03-2013       56      1493  ...                  2             0   \n",
       "\n",
       "      AcceptedCmp4  AcceptedCmp5  AcceptedCmp1  AcceptedCmp2  Complain  \\\n",
       "1749             1             1             1             0         0   \n",
       "\n",
       "      Z_CostContact  Z_Revenue  Response  \n",
       "1749              3         11         0  \n",
       "\n",
       "[1 rows x 29 columns]"
      ]
     },
     "execution_count": 21,
     "metadata": {},
     "output_type": "execute_result"
    }
   ],
   "source": [
    "# Your turn: Find the customer who has bought the most wines and print out the row\n",
    "# This is a tricky question, so if you get stuck don't worry! \n",
    "expensive_customer = mini_project_df[mini_project_df['MntWines']==mini_project_df['MntWines'].max()] "
   ]
  },
  {
   "cell_type": "code",
   "execution_count": 25,
   "metadata": {},
   "outputs": [
    {
     "name": "stdout",
     "output_type": "stream",
     "text": [
      "People with kids: 102.90285110876452 \n",
      "People without kids: 451.17324052590874\n"
     ]
    }
   ],
   "source": [
    "# Extension, What is the average number of wine bought by people with kids and people without kids? Is there a difference?\n",
    "# Print out the difference between people who have kinds and people without\n",
    "# hint: use 'KidHome' as the column to filter by\n",
    "# hint: filter the data first by people with kids and then do a columnwise mean, filter the data by people without kids and then do a columnwise mean\n",
    "people_with_kids = mini_project_df[mini_project_df['Kidhome'] > 0]\n",
    "average_mnt_wines_people_with_kids = people_with_kids['MntWines'].mean()\n",
    "\n",
    "people_without_kids = mini_project_df[mini_project_df['Kidhome'] == 0]\n",
    "average_mnt_wines_people_without_kids = people_without_kids['MntWines'].mean()\n",
    "\n",
    "print(\"People with kids: \" + str(average_mnt_wines_people_with_kids), \"\\nPeople without kids: \" + str(average_mnt_wines_people_without_kids))"
   ]
  },
  {
   "cell_type": "code",
   "execution_count": 28,
   "metadata": {},
   "outputs": [
    {
     "name": "stdout",
     "output_type": "stream",
     "text": [
      "Average salary of a graduate is: 52720.37365591398\n",
      "Average salary of a masters is: 52917.53424657534\n",
      "Average salary of a Phd is: 56145.31392931393\n"
     ]
    }
   ],
   "source": [
    "# Extension, Is there an average salary difference between people who are graduated compared to people who have a Masters or PhD? \n",
    "# Print out the difference between each group (Grduate&Masters, Graduate&PhD, Masters&Phd).\n",
    "# hint: Use 'Education' as the column to find out their education level.\n",
    "# hint: Use 'Income' as the column to find out their salary\n",
    "\n",
    "average_graduate_salary = mini_project_df[mini_project_df['Education'] == 'Graduation']['Income'].mean()\n",
    "\n",
    "average_master_salary = mini_project_df[mini_project_df['Education'] == 'Master']['Income'].mean()\n",
    "\n",
    "average_phd_salary = mini_project_df[mini_project_df['Education'] == 'PhD']['Income'].mean()\n",
    "\n",
    "print(\"Average salary of a graduate is: \" + str(average_graduate_salary) + '\\nAverage salary of a masters is: ' + str(average_master_salary) + '\\nAverage salary of a Phd is: ' + str(average_phd_salary))\n"
   ]
  }
 ],
 "metadata": {
  "interpreter": {
   "hash": "d4b88a7282f62d463edaf161656c19dd29aa55b130908b004c898e5b2bc76789"
  },
  "kernelspec": {
   "display_name": "Python 3.7.4 64-bit",
   "name": "python3"
  },
  "language_info": {
   "codemirror_mode": {
    "name": "ipython",
    "version": 3
   },
   "file_extension": ".py",
   "mimetype": "text/x-python",
   "name": "python",
   "nbconvert_exporter": "python",
   "pygments_lexer": "ipython3",
   "version": "3.7.4"
  },
  "orig_nbformat": 4
 },
 "nbformat": 4,
 "nbformat_minor": 2
}
