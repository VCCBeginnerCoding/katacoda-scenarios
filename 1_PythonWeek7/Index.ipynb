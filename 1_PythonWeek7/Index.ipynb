{
 "cells": [
  {
   "cell_type": "markdown",
   "source": [
    "# Vodafone Coding Club Crash Course Week 4\n",
    "## Pandas Project\n",
    "\n",
    "This workbook will take you through the ins and outs of working with spreadsheet data in Python. "
   ],
   "metadata": {}
  },
  {
   "cell_type": "markdown",
   "source": [
    "## Downloading Pandas\n",
    "Pandas is a Python library that allows us to work with spreadsheet data in Python. To install the Pandas library, we can run the command in the following cell. "
   ],
   "metadata": {}
  },
  {
   "cell_type": "code",
   "execution_count": null,
   "source": [
    "!python3 -m pip install pandas"
   ],
   "outputs": [],
   "metadata": {}
  },
  {
   "cell_type": "markdown",
   "source": [
    "## Importing Pandas\n",
    "Now that we've downloaded Pandas, we now have to import the Pandas library into our code, we can do this in Python using the following code "
   ],
   "metadata": {}
  },
  {
   "cell_type": "code",
   "execution_count": null,
   "source": [
    "import pandas "
   ],
   "outputs": [],
   "metadata": {}
  },
  {
   "cell_type": "markdown",
   "source": [
    "## Loading data into Pandas\n",
    "Now that we've imported Pandas into Python, let's try import some data using Pandas. Pandas supports both .xlsx format and .csv format, to load either file into Pandas, we can do the following:"
   ],
   "metadata": {}
  },
  {
   "cell_type": "code",
   "execution_count": null,
   "source": [
    "# Loading example csv and xslx data into pandas\r\n",
    "\r\n",
    "## Loading csv file 'example_csv.csv' into pandas and storing that data in the variable 'example_csv'\r\n",
    "example_csv_df = pandas.read_csv('example_csv.csv')\r\n",
    "\r\n",
    "## Loading xlsx file 'example_xlsx.xlsx' into pandas and storing that data in the variable 'example_xlsx'\r\n",
    "#example_xlsx_df = pandas.read_excel('example_xlsx.xlsx')\r\n",
    "#The above  line does not work in Katacoda unfortunately, but does on normal machines"
   ],
   "outputs": [],
   "metadata": {}
  },
  {
   "cell_type": "markdown",
   "source": [
    "## Your Turn!\n",
    "Using the above example, import \"data.csv\" into pandas into a variable called \"data_df\""
   ],
   "metadata": {}
  },
  {
   "cell_type": "code",
   "execution_count": null,
   "source": [
    "# Your turn: create a variable data_df and load in 'data.csv'\r\n",
    "data_df = "
   ],
   "outputs": [],
   "metadata": {}
  },
  {
   "cell_type": "code",
   "execution_count": null,
   "source": [
    "# Lets take a look at the data you've imported!\r\n",
    "print(data_df)"
   ],
   "outputs": [],
   "metadata": {}
  },
  {
   "cell_type": "markdown",
   "source": [
    "## Pandas functions to explore the data\n",
    "Now that we've loaded data into Pandas, we can explore some of the functions included in pandas to explore our data. Try the following methods on the \"data_df\" variable e.g. data_df.head():\n",
    "\n",
    "1. head\n",
    "2. tail\n",
    "2. describe\n",
    "3. value_counts\n",
    "\n",
    "What do each of the functions do? How would one use these functions? \n",
    "\n",
    "What is our data? What does our data show?"
   ],
   "metadata": {}
  },
  {
   "cell_type": "code",
   "execution_count": null,
   "source": [
    "# Example:\r\n",
    "example_csv_df.head()"
   ],
   "outputs": [],
   "metadata": {}
  },
  {
   "cell_type": "code",
   "execution_count": null,
   "source": [
    "# Your turn: try the head() function on data_df, what does it do?\r\n"
   ],
   "outputs": [],
   "metadata": {}
  },
  {
   "cell_type": "code",
   "execution_count": null,
   "source": [
    "# Your turn: try the tail() function on data_df, what does it do?\r\n"
   ],
   "outputs": [],
   "metadata": {}
  },
  {
   "cell_type": "code",
   "execution_count": null,
   "source": [
    "# Your turn: try the describe() function on data_df, what does it do?\r\n"
   ],
   "outputs": [],
   "metadata": {}
  },
  {
   "cell_type": "code",
   "execution_count": null,
   "source": [
    "# Your turn: try the value_counts() function on data_df, what does it do?\r\n"
   ],
   "outputs": [],
   "metadata": {}
  },
  {
   "cell_type": "markdown",
   "source": [
    "## Visualizing Pandas Data\n",
    "We can also visualize data in Pandas as graphs instead of tabular data. Pandas by default supports many formats, some include: line, bar, histogram, box and pie. Try test them out in code section below. "
   ],
   "metadata": {}
  },
  {
   "cell_type": "code",
   "execution_count": null,
   "source": [
    "# An example line graph\r\n",
    "example_csv_df.plot(kind='line', title='Example Line Graph')"
   ],
   "outputs": [],
   "metadata": {}
  },
  {
   "cell_type": "code",
   "execution_count": null,
   "source": [
    "# Your turn: Try create a line graph of data_df\r\n"
   ],
   "outputs": [],
   "metadata": {}
  },
  {
   "cell_type": "code",
   "execution_count": null,
   "source": [
    "# An example box plot \r\n",
    "example_csv_df.plot(kind='box')"
   ],
   "outputs": [],
   "metadata": {}
  },
  {
   "cell_type": "code",
   "execution_count": null,
   "source": [
    "# Your turn: Try create a box plot graph of data_df\r\n"
   ],
   "outputs": [],
   "metadata": {}
  },
  {
   "cell_type": "markdown",
   "source": [
    "## Question: What is the most suitable type of graph for the example data? \n",
    "\n",
    "What plot would you use if you wanted to show this data to someone? Explain why. "
   ],
   "metadata": {}
  },
  {
   "cell_type": "markdown",
   "source": [
    "## Data Analysis\n",
    "At Vodafone, we use Python to do data analysis on our data. We can use traditional Python on our Pandas data in order to manipulate and analyze the data. In the section below we will walk through how that is done. "
   ],
   "metadata": {}
  },
  {
   "cell_type": "code",
   "execution_count": null,
   "source": [
    "# Example: Selecting a row to view the data\r\n",
    "example_csv_df['NPS Score']"
   ],
   "outputs": [],
   "metadata": {}
  },
  {
   "cell_type": "code",
   "execution_count": null,
   "source": [
    "# Your turn: Try selecting the CAPEX column to view in data_df "
   ],
   "outputs": [],
   "metadata": {}
  },
  {
   "cell_type": "code",
   "execution_count": null,
   "source": [
    "# Example: Adding a new column\r\n",
    "example_csv_df['NPS Score Copy'] = example_csv_df['NPS Score']"
   ],
   "outputs": [],
   "metadata": {}
  },
  {
   "cell_type": "code",
   "execution_count": null,
   "source": [
    "# Your turn: Try copying the OPEX column in data_df to a new column called \"OPEX Copy\""
   ],
   "outputs": [],
   "metadata": {}
  },
  {
   "cell_type": "code",
   "execution_count": null,
   "source": [
    "# Example: Column mean\r\n",
    "column_mean = example_csv_df['NPS Score'].mean(axis=0) # axis=0 tells Pandas to do a column wise mean\r\n",
    "print(column_mean)\r\n",
    "\r\n",
    "# axis=1 instead would tell Pandas to do a row wise mean"
   ],
   "outputs": [],
   "metadata": {}
  },
  {
   "cell_type": "code",
   "execution_count": null,
   "source": [
    "# Your turn: Try obtain the CAPEX column mean in data_df\r\n"
   ],
   "outputs": [],
   "metadata": {}
  },
  {
   "cell_type": "code",
   "execution_count": null,
   "source": [
    "# Example: Total or Sum of each row \r\n",
    "example_csv_df['Sum of Customer Score'] = example_csv_df.sum(axis=1) \r\n",
    "example_csv_df['Sum of Customer Score']"
   ],
   "outputs": [],
   "metadata": {}
  },
  {
   "cell_type": "code",
   "execution_count": null,
   "source": [
    "# Your turn: Try creating a new column in data_df to store the sum of each column per row\r\n"
   ],
   "outputs": [],
   "metadata": {}
  },
  {
   "cell_type": "code",
   "execution_count": null,
   "source": [
    "# Example: Custom function \r\n",
    "\r\n",
    "# This example custom function will square whatever value it gets\r\n",
    "def custom_function(x):\r\n",
    "    return x**2 \r\n",
    "\r\n",
    "# Create a new column 'Custom Function' which contains the squared value for each customer's NPS score\r\n",
    "example_csv_df['Custom Function'] = example_csv_df['NPS Score'].apply(custom_function)\r\n",
    "print(example_csv_df['Custom Function'])\r\n"
   ],
   "outputs": [],
   "metadata": {}
  },
  {
   "cell_type": "code",
   "execution_count": null,
   "source": [
    "# Your turn: Create a new custom function called \"multiply_by_3\" and then use that function to create a new column in data_df called \"3x OPEX\" and apply your custom function on the OPEX column \r\n"
   ],
   "outputs": [],
   "metadata": {}
  },
  {
   "cell_type": "code",
   "execution_count": null,
   "source": [
    "# Example: Finding rows that match a specific criteria\r\n",
    "filtered_view = example_csv_df.loc[example_csv_df['Customer Service'] > 9]\r\n",
    "filtered_view"
   ],
   "outputs": [],
   "metadata": {}
  },
  {
   "cell_type": "code",
   "execution_count": null,
   "source": [
    "# Your turn: Filter out all the OPEX weeks in data_df which were less than 3000\r\n"
   ],
   "outputs": [],
   "metadata": {}
  },
  {
   "cell_type": "markdown",
   "source": [
    "## Mini Project: \n",
    "Now that we know the basics of Python and Pandas, lets combine both skills and try our head at some real data and perform some data analysis. \n",
    "\n",
    "1. Import the file \"mini_project_data.csv\"\n",
    "2. Visualize specific columns\n",
    "    - Plot a Histogram plot of \"Income\" (with bins = 100)\n",
    "    - Plot a Pie chart plot of the \"Education\" (use value_counts() )\n",
    "3. Create a new column called \"Income in Euros\" and multiply the income by 0.86 \n",
    "4. Calculate the column average of the column \"MntWines\"\n",
    "5. Find the customer who has spent the most on wines and print out their ID aswell as how much they spent\n",
    "\n",
    "## Extension:\n",
    "If you manage to finish the above tasks, see if you can manage these more advanced Pandas concepts: \n",
    "\n",
    "1. What is the average amount of wine spent people who have kids compared to people without kids? Print out the difference\n",
    "2. Is there a salary difference between people who are graduated compared to people who have a Masters or PhD? What is the difference between each group?"
   ],
   "metadata": {}
  },
  {
   "cell_type": "code",
   "execution_count": null,
   "source": [
    "# Your turn: Read in the data and give it a suitable name like \"mini_project_df\", hint: use pandas.read_csv to load the data.\r\n"
   ],
   "outputs": [],
   "metadata": {}
  },
  {
   "cell_type": "code",
   "execution_count": null,
   "source": [
    "# Your turn: Explore the data! What does our data contain, hint: use .head() to see what our data is! "
   ],
   "outputs": [],
   "metadata": {}
  },
  {
   "cell_type": "code",
   "execution_count": null,
   "source": [
    "# Your turn: Visualize the Income column as a histogram (short term is hist), hint: use kind='hist', and the bins=100 parameter to really see the data!\r\n"
   ],
   "outputs": [],
   "metadata": {}
  },
  {
   "cell_type": "code",
   "execution_count": null,
   "source": [
    "# Your turn: Visualize the Education column as a pie chart, hint: use kind='pie', and .value_counts() to add up each type of education value!\r\n"
   ],
   "outputs": [],
   "metadata": {}
  },
  {
   "cell_type": "code",
   "execution_count": null,
   "source": [
    "# Your turn: Create a function that will multiply the Income column by 0.86 and add that data as a new column called \"Income in Euros\", hint: use .apply() to add the new column.\r\n"
   ],
   "outputs": [],
   "metadata": {}
  },
  {
   "cell_type": "code",
   "execution_count": null,
   "source": [
    "# Your turn: Calculate the column average of the column \"MntWines\", hint: use .mean() to calculate the average.\r\n"
   ],
   "outputs": [],
   "metadata": {}
  },
  {
   "cell_type": "code",
   "execution_count": null,
   "source": [
    "# Your turn: Find the customer who has bought the most wines and print out the row\r\n",
    "# This is a tricky question, so if you get stuck don't worry! \r\n",
    "# Hint: find the customer who has bought the most wines, and return the row where it equals the max value of mnt wines\r\n",
    "# , use .max() to find the customer that bought the most wine.\r\n"
   ],
   "outputs": [],
   "metadata": {}
  },
  {
   "cell_type": "code",
   "execution_count": null,
   "source": [
    "# Extension, What is the average number of wine bought by people with kids and people without kids? Is there a difference?\r\n",
    "# Print out the difference between people who have kinds and people without\r\n",
    "# hint: use 'KidHome' as the column to filter by\r\n",
    "# hint: filter the data first by people with kids (kids > 0) and then do a columnwise mean, filter the data by people without kids (kids == 0) and then do a columnwise mean\r\n"
   ],
   "outputs": [],
   "metadata": {}
  },
  {
   "cell_type": "code",
   "execution_count": null,
   "source": [
    "# Extension, Is there an average salary difference between people who are graduated compared to people who have a Masters or PhD? \r\n",
    "# Print out the difference between each group (Grduate&Masters, Graduate&PhD, Masters&Phd).\r\n",
    "# hint: Use 'Education' as the column to find out their education level.\r\n",
    "# hint: Use 'Income' as the column to find out their salary, use .mean() to calculate average salary\r\n",
    "\r\n",
    "\r\n"
   ],
   "outputs": [],
   "metadata": {}
  }
 ],
 "metadata": {
  "interpreter": {
   "hash": "d4b88a7282f62d463edaf161656c19dd29aa55b130908b004c898e5b2bc76789"
  },
  "kernelspec": {
   "display_name": "Python 3.7.4 64-bit",
   "name": "python3"
  },
  "language_info": {
   "codemirror_mode": {
    "name": "ipython",
    "version": 3
   },
   "file_extension": ".py",
   "mimetype": "text/x-python",
   "name": "python",
   "nbconvert_exporter": "python",
   "pygments_lexer": "ipython3",
   "version": "3.7.4"
  },
  "orig_nbformat": 4
 },
 "nbformat": 4,
 "nbformat_minor": 2
}